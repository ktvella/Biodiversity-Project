{
 "cells": [
  {
   "cell_type": "markdown",
   "metadata": {},
   "source": [
    "# Biodiversity in National Parks"
   ]
  },
  {
   "cell_type": "markdown",
   "metadata": {},
   "source": [
    "For this project, data from the National Parks Service will be analyzed to investigate whether there are any patterns or themes in the conservation statuses of different species. This project will be used to practice cleaning, analyzing and plotting data as well as posing and answering statistical questions in a meaningful way. Note that the data in this project is fictional. "
   ]
  },
  {
   "cell_type": "markdown",
   "metadata": {},
   "source": [
    "## Scoping"
   ]
  },
  {
   "cell_type": "markdown",
   "metadata": {},
   "source": [
    "### Project Goals"
   ]
  },
  {
   "cell_type": "markdown",
   "metadata": {},
   "source": [
    "The goal of this project is to understand characteristics about species and their conservation statuses, and if they have any relation to the national parks. Questions that will be answered: \n",
    " What is the distribution of conservation statuses?\n",
    "How often different species are conserved\n",
    "Is there a significant difference of conservation status between species"
   ]
  },
  {
   "cell_type": "markdown",
   "metadata": {},
   "source": [
    "### Data"
   ]
  },
  {
   "cell_type": "markdown",
   "metadata": {},
   "source": [
    "There are two files of data used for this project. The first CSV had observations of species at national park locations, and the second has information about each species. "
   ]
  },
  {
   "cell_type": "markdown",
   "metadata": {},
   "source": [
    "## Importing Libraries and Data"
   ]
  },
  {
   "cell_type": "code",
   "execution_count": 1,
   "metadata": {},
   "outputs": [],
   "source": [
    "import pandas as pd\n",
    "import numpy as np\n",
    "import seaborn as sns\n",
    "import statsmodels\n",
    "import matplotlib.pyplot as plt\n",
    "import math\n",
    "\n",
    "#load data from csv files\n",
    "observations=pd.read_csv('observations.csv')\n",
    "species=pd.read_csv('species_info.csv')\n"
   ]
  },
  {
   "cell_type": "markdown",
   "metadata": {},
   "source": [
    "## Previewing the Data"
   ]
  },
  {
   "cell_type": "markdown",
   "metadata": {},
   "source": [
    "### Data Preview and Variable Types"
   ]
  },
  {
   "cell_type": "markdown",
   "metadata": {},
   "source": [
    "To get an idea of the information in each data set, the first few rows of both are printed below. The data types are printed in order to get an idea of how each variable is stored. We can see that both data sets contain the column \"scientific_name\", which will be useful in tying observations conservation status. \n",
    "\n"
   ]
  },
  {
   "cell_type": "code",
   "execution_count": 2,
   "metadata": {},
   "outputs": [
    {
     "name": "stdout",
     "output_type": "stream",
     "text": [
      "Observations Preview\n"
     ]
    },
    {
     "data": {
      "text/html": [
       "<div>\n",
       "<style scoped>\n",
       "    .dataframe tbody tr th:only-of-type {\n",
       "        vertical-align: middle;\n",
       "    }\n",
       "\n",
       "    .dataframe tbody tr th {\n",
       "        vertical-align: top;\n",
       "    }\n",
       "\n",
       "    .dataframe thead th {\n",
       "        text-align: right;\n",
       "    }\n",
       "</style>\n",
       "<table border=\"1\" class=\"dataframe\">\n",
       "  <thead>\n",
       "    <tr style=\"text-align: right;\">\n",
       "      <th></th>\n",
       "      <th>scientific_name</th>\n",
       "      <th>park_name</th>\n",
       "      <th>observations</th>\n",
       "    </tr>\n",
       "  </thead>\n",
       "  <tbody>\n",
       "    <tr>\n",
       "      <th>0</th>\n",
       "      <td>Vicia benghalensis</td>\n",
       "      <td>Great Smoky Mountains National Park</td>\n",
       "      <td>68</td>\n",
       "    </tr>\n",
       "    <tr>\n",
       "      <th>1</th>\n",
       "      <td>Neovison vison</td>\n",
       "      <td>Great Smoky Mountains National Park</td>\n",
       "      <td>77</td>\n",
       "    </tr>\n",
       "    <tr>\n",
       "      <th>2</th>\n",
       "      <td>Prunus subcordata</td>\n",
       "      <td>Yosemite National Park</td>\n",
       "      <td>138</td>\n",
       "    </tr>\n",
       "    <tr>\n",
       "      <th>3</th>\n",
       "      <td>Abutilon theophrasti</td>\n",
       "      <td>Bryce National Park</td>\n",
       "      <td>84</td>\n",
       "    </tr>\n",
       "    <tr>\n",
       "      <th>4</th>\n",
       "      <td>Githopsis specularioides</td>\n",
       "      <td>Great Smoky Mountains National Park</td>\n",
       "      <td>85</td>\n",
       "    </tr>\n",
       "  </tbody>\n",
       "</table>\n",
       "</div>"
      ],
      "text/plain": [
       "            scientific_name                            park_name  observations\n",
       "0        Vicia benghalensis  Great Smoky Mountains National Park            68\n",
       "1            Neovison vison  Great Smoky Mountains National Park            77\n",
       "2         Prunus subcordata               Yosemite National Park           138\n",
       "3      Abutilon theophrasti                  Bryce National Park            84\n",
       "4  Githopsis specularioides  Great Smoky Mountains National Park            85"
      ]
     },
     "execution_count": 2,
     "metadata": {},
     "output_type": "execute_result"
    }
   ],
   "source": [
    "#preview data\n",
    "print('Observations Preview')\n",
    "observations.head()\n",
    "\n"
   ]
  },
  {
   "cell_type": "code",
   "execution_count": 3,
   "metadata": {},
   "outputs": [
    {
     "name": "stdout",
     "output_type": "stream",
     "text": [
      "Species Preview\n"
     ]
    },
    {
     "data": {
      "text/html": [
       "<div>\n",
       "<style scoped>\n",
       "    .dataframe tbody tr th:only-of-type {\n",
       "        vertical-align: middle;\n",
       "    }\n",
       "\n",
       "    .dataframe tbody tr th {\n",
       "        vertical-align: top;\n",
       "    }\n",
       "\n",
       "    .dataframe thead th {\n",
       "        text-align: right;\n",
       "    }\n",
       "</style>\n",
       "<table border=\"1\" class=\"dataframe\">\n",
       "  <thead>\n",
       "    <tr style=\"text-align: right;\">\n",
       "      <th></th>\n",
       "      <th>category</th>\n",
       "      <th>scientific_name</th>\n",
       "      <th>common_names</th>\n",
       "      <th>conservation_status</th>\n",
       "    </tr>\n",
       "  </thead>\n",
       "  <tbody>\n",
       "    <tr>\n",
       "      <th>0</th>\n",
       "      <td>Mammal</td>\n",
       "      <td>Clethrionomys gapperi gapperi</td>\n",
       "      <td>Gapper's Red-Backed Vole</td>\n",
       "      <td>NaN</td>\n",
       "    </tr>\n",
       "    <tr>\n",
       "      <th>1</th>\n",
       "      <td>Mammal</td>\n",
       "      <td>Bos bison</td>\n",
       "      <td>American Bison, Bison</td>\n",
       "      <td>NaN</td>\n",
       "    </tr>\n",
       "    <tr>\n",
       "      <th>2</th>\n",
       "      <td>Mammal</td>\n",
       "      <td>Bos taurus</td>\n",
       "      <td>Aurochs, Aurochs, Domestic Cattle (Feral), Dom...</td>\n",
       "      <td>NaN</td>\n",
       "    </tr>\n",
       "    <tr>\n",
       "      <th>3</th>\n",
       "      <td>Mammal</td>\n",
       "      <td>Ovis aries</td>\n",
       "      <td>Domestic Sheep, Mouflon, Red Sheep, Sheep (Feral)</td>\n",
       "      <td>NaN</td>\n",
       "    </tr>\n",
       "    <tr>\n",
       "      <th>4</th>\n",
       "      <td>Mammal</td>\n",
       "      <td>Cervus elaphus</td>\n",
       "      <td>Wapiti Or Elk</td>\n",
       "      <td>NaN</td>\n",
       "    </tr>\n",
       "  </tbody>\n",
       "</table>\n",
       "</div>"
      ],
      "text/plain": [
       "  category                scientific_name  \\\n",
       "0   Mammal  Clethrionomys gapperi gapperi   \n",
       "1   Mammal                      Bos bison   \n",
       "2   Mammal                     Bos taurus   \n",
       "3   Mammal                     Ovis aries   \n",
       "4   Mammal                 Cervus elaphus   \n",
       "\n",
       "                                        common_names conservation_status  \n",
       "0                           Gapper's Red-Backed Vole                 NaN  \n",
       "1                              American Bison, Bison                 NaN  \n",
       "2  Aurochs, Aurochs, Domestic Cattle (Feral), Dom...                 NaN  \n",
       "3  Domestic Sheep, Mouflon, Red Sheep, Sheep (Feral)                 NaN  \n",
       "4                                      Wapiti Or Elk                 NaN  "
      ]
     },
     "execution_count": 3,
     "metadata": {},
     "output_type": "execute_result"
    }
   ],
   "source": [
    "print('Species Preview')\n",
    "species.head()"
   ]
  },
  {
   "cell_type": "code",
   "execution_count": 4,
   "metadata": {},
   "outputs": [
    {
     "name": "stdout",
     "output_type": "stream",
     "text": [
      "scientific_name    object\n",
      "park_name          object\n",
      "observations        int64\n",
      "dtype: object\n",
      "category               object\n",
      "scientific_name        object\n",
      "common_names           object\n",
      "conservation_status    object\n",
      "dtype: object\n"
     ]
    }
   ],
   "source": [
    "\n",
    "print(observations.dtypes)\n",
    "print(species.dtypes)\n"
   ]
  },
  {
   "cell_type": "markdown",
   "metadata": {},
   "source": [
    "First, we will look at the details of the Conservation Status data. Below is a summary of the shape of the data set, the counts of unique scientific names, species, and conservation statuses as well as what the different species and conservation statuses are. Also below are the variable types for the data set. We can see that all of the variables in this data set are categorical. "
   ]
  },
  {
   "cell_type": "code",
   "execution_count": 5,
   "metadata": {},
   "outputs": [
    {
     "name": "stdout",
     "output_type": "stream",
     "text": [
      "Shape of species data set:  (5824, 4)\n",
      "Number of unique scientific names:  5541\n",
      "Number of unique categories of species:  7\n",
      "Species Categories:  ['Mammal' 'Bird' 'Reptile' 'Amphibian' 'Fish' 'Vascular Plant'\n",
      " 'Nonvascular Plant']\n",
      "Number of Conservation Statuses:  4\n",
      "Conservation Statuses:  [nan 'Species of Concern' 'Endangered' 'Threatened' 'In Recovery']\n"
     ]
    }
   ],
   "source": [
    "print(\"Shape of species data set: \", species.shape)\n",
    "print(\"Number of unique scientific names: \" , species.scientific_name.nunique())\n",
    "print(\"Number of unique categories of species: \", species.category.nunique())\n",
    "print(\"Species Categories: \", species.category.unique())\n",
    "print(\"Number of Conservation Statuses: \", species.conservation_status.nunique())\n",
    "print(\"Conservation Statuses: \", species.conservation_status.unique())"
   ]
  },
  {
   "cell_type": "markdown",
   "metadata": {},
   "source": [
    "Now, we will look at the details of the Observations data set. We can see that there are 4 different parks, and the names of the parks. When we print out the number of observations by park, we can see that the observations are exactly evenly split between the four parks. By printing the variable types, we can see that the observation counts variable is numeric, and the other variables are categorical. "
   ]
  },
  {
   "cell_type": "code",
   "execution_count": 6,
   "metadata": {},
   "outputs": [
    {
     "name": "stdout",
     "output_type": "stream",
     "text": [
      "Shape of Observations data set:  (23296, 3)\n",
      "Count of Parks:  4\n",
      "Park Names:  ['Great Smoky Mountains National Park' 'Yosemite National Park'\n",
      " 'Bryce National Park' 'Yellowstone National Park']\n",
      "Number of Observations by Park: \n",
      "park_name\n",
      "Bryce National Park                    5824\n",
      "Great Smoky Mountains National Park    5824\n",
      "Yellowstone National Park              5824\n",
      "Yosemite National Park                 5824\n",
      "Name: scientific_name, dtype: int64\n"
     ]
    }
   ],
   "source": [
    "print(\"Shape of Observations data set: \", observations.shape)\n",
    "print(\"Count of Parks: \", observations.park_name.nunique())\n",
    "print(\"Park Names: \", observations.park_name.unique())\n",
    "print(\"Number of Observations by Park: \")\n",
    "print(observations.groupby(\"park_name\").scientific_name.count())"
   ]
  },
  {
   "cell_type": "markdown",
   "metadata": {},
   "source": [
    "Now that we've looked at the data set, we know that the majority of our data is categorical. This means that we will have to focus on strategies to compare categorical variables, like box plots, contingency tables, and chi-squared statistics when analyzing the data. "
   ]
  },
  {
   "cell_type": "markdown",
   "metadata": {},
   "source": [
    "### Counts and nan Values"
   ]
  },
  {
   "cell_type": "markdown",
   "metadata": {},
   "source": [
    "To get an idea of the distributions of two major variables, conservation status and animal category, the counts of each are tallied below. Its easiest to work with datasets if there are as few NaN values as possible. For this data set in particular, we can assume that if a species does not have a conservation status, it is not conserved. Therefore NaN values in the conservation_status columns can be replaced by 'Not Conserved'. \n",
    "\n",
    "To get an idea of the distributions of two major variables, conservation status and animal category, the counts of each are tallied below. We can see that the most common type of species is Vascular Plant, while the most common conservation status os Not Conserved. "
   ]
  },
  {
   "cell_type": "code",
   "execution_count": 7,
   "metadata": {},
   "outputs": [
    {
     "name": "stdout",
     "output_type": "stream",
     "text": [
      "conservation_status\n",
      "Endangered             16\n",
      "In Recovery             4\n",
      "Species of Concern    161\n",
      "Threatened             10\n",
      "dtype: int64\n",
      "\n",
      "category\n",
      "Amphibian              80\n",
      "Bird                  521\n",
      "Fish                  127\n",
      "Mammal                214\n",
      "Nonvascular Plant     333\n",
      "Reptile                79\n",
      "Vascular Plant       4470\n",
      "dtype: int64\n"
     ]
    }
   ],
   "source": [
    "#conservation statuses\n",
    "print(species.groupby('conservation_status').size())\n",
    "print()\n",
    "print(species.groupby('category').size())\n",
    "\n",
    "\n"
   ]
  },
  {
   "cell_type": "code",
   "execution_count": 8,
   "metadata": {},
   "outputs": [
    {
     "name": "stdout",
     "output_type": "stream",
     "text": [
      "conservation_status\n",
      "Endangered              16\n",
      "In Recovery              4\n",
      "Not Conserved         5633\n",
      "Species of Concern     161\n",
      "Threatened              10\n",
      "dtype: int64\n"
     ]
    }
   ],
   "source": [
    "#fill in NaN information in species conservation status\n",
    "species.conservation_status.fillna('Not Conserved', inplace=True)\n",
    "print(species.groupby('conservation_status').size())"
   ]
  },
  {
   "cell_type": "code",
   "execution_count": 9,
   "metadata": {},
   "outputs": [
    {
     "name": "stdout",
     "output_type": "stream",
     "text": [
      "Conservation Statuses:  ['Not Conserved' 'Species of Concern' 'Endangered' 'Threatened'\n",
      " 'In Recovery']\n"
     ]
    }
   ],
   "source": [
    "print(\"Conservation Statuses: \", species.conservation_status.unique())"
   ]
  },
  {
   "cell_type": "markdown",
   "metadata": {},
   "source": [
    "## Visualizing the Data"
   ]
  },
  {
   "cell_type": "markdown",
   "metadata": {},
   "source": [
    "### Conservation Status"
   ]
  },
  {
   "cell_type": "markdown",
   "metadata": {},
   "source": [
    "Now that we've previewed the data, looked at the counts, and cleaned the NaN values, we can start visualizing the data. These first two charts are visualizations of the counts above: the count in each animal category, and in each conservation status. In the Species chart, Vascular Plant is the largest category by far. In the Conservation chart, the same goes for the Not Conserved category. \n",
    "\n",
    "The charts of Conservation Status and Species each have one category that has a disproportionate number of animals, making it hard to see how the other categories compare. The secondary charts below show the same data, but without those categories (Vascular Plant and Not Conserved) to make it easier to see how the other categories compare to each other. With these new charts, we can see that counts in the other species are relatively close, with reptile being the smaller category. Conservation statuses still has a big gap between categories, with Species of Concern being the biggest category by far."
   ]
  },
  {
   "cell_type": "code",
   "execution_count": 10,
   "metadata": {},
   "outputs": [
    {
     "data": {
      "image/png": "[encoded data removed]",
      "text/plain": [
       "<Figure size 640x480 with 1 Axes>"
      ]
     },
     "metadata": {},
     "output_type": "display_data"
    }
   ],
   "source": [
    "#plot animals of different levels of concern\n",
    "#print(species['conservation_status'].value_counts())\n",
    "species['conservation_status'].value_counts().plot(kind='bar')\n",
    "plt.title(\"Conservation Status Counts\")\n",
    "plt.show()\n"
   ]
  },
  {
   "cell_type": "code",
   "execution_count": 11,
   "metadata": {},
   "outputs": [
    {
     "data": {
      "image/png": "[encoded data removed]",
      "text/plain": [
       "<Figure size 640x480 with 1 Axes>"
      ]
     },
     "metadata": {},
     "output_type": "display_data"
    }
   ],
   "source": [
    "#plot animals of different levels of concern\n",
    "#exclude not conserved animals\n",
    "endangered_species=species[species.conservation_status != 'Not Conserved']\n",
    "endangered_species['conservation_status'].value_counts().plot(kind='bar')\n",
    "plt.title(\"Conserved Status Counts\")\n",
    "plt.show()"
   ]
  },
  {
   "cell_type": "code",
   "execution_count": 12,
   "metadata": {},
   "outputs": [
    {
     "data": {
      "text/plain": [
       "Text(0.5, 1.0, 'Species Category Counts')"
      ]
     },
     "execution_count": 12,
     "metadata": {},
     "output_type": "execute_result"
    },
    {
     "data": {
      "image/png": "[encoded data removed]",
      "text/plain": [
       "<Figure size 640x480 with 1 Axes>"
      ]
     },
     "metadata": {},
     "output_type": "display_data"
    }
   ],
   "source": [
    "species['category'].value_counts().plot(kind='bar')\n",
    "plt.title(\"Species Category Counts\")"
   ]
  },
  {
   "cell_type": "code",
   "execution_count": 13,
   "metadata": {},
   "outputs": [
    {
     "data": {
      "text/plain": [
       "Text(0.5, 1.0, 'Species Cateory Counts')"
      ]
     },
     "execution_count": 13,
     "metadata": {},
     "output_type": "execute_result"
    },
    {
     "data": {
      "image/png": "[encoded data removed]",
      "text/plain": [
       "<Figure size 640x480 with 1 Axes>"
      ]
     },
     "metadata": {},
     "output_type": "display_data"
    }
   ],
   "source": [
    "animal_species=species[species.category != 'Vascular Plant']\n",
    "animal_species['category'].value_counts().plot(kind='bar')\n",
    "plt.title(\"Species Cateory Counts\")"
   ]
  },
  {
   "cell_type": "markdown",
   "metadata": {},
   "source": [
    "Combining the two sets of information above, we can look at the conservation status by species type. The data below excludes the Not Conserved category.  Below is both a table and a stacked bar chart to better visualize the data. Now we can see what species make up the different conservation categories. Birds and vascular plants make up most of the Species of Concern category, while mammals make up most of the endangered category. "
   ]
  },
  {
   "cell_type": "code",
   "execution_count": 14,
   "metadata": {},
   "outputs": [
    {
     "data": {
      "text/html": [
       "<div>\n",
       "<style scoped>\n",
       "    .dataframe tbody tr th:only-of-type {\n",
       "        vertical-align: middle;\n",
       "    }\n",
       "\n",
       "    .dataframe tbody tr th {\n",
       "        vertical-align: top;\n",
       "    }\n",
       "\n",
       "    .dataframe thead th {\n",
       "        text-align: right;\n",
       "    }\n",
       "</style>\n",
       "<table border=\"1\" class=\"dataframe\">\n",
       "  <thead>\n",
       "    <tr style=\"text-align: right;\">\n",
       "      <th>category</th>\n",
       "      <th>Amphibian</th>\n",
       "      <th>Bird</th>\n",
       "      <th>Fish</th>\n",
       "      <th>Mammal</th>\n",
       "      <th>Nonvascular Plant</th>\n",
       "      <th>Reptile</th>\n",
       "      <th>Vascular Plant</th>\n",
       "    </tr>\n",
       "    <tr>\n",
       "      <th>conservation_status</th>\n",
       "      <th></th>\n",
       "      <th></th>\n",
       "      <th></th>\n",
       "      <th></th>\n",
       "      <th></th>\n",
       "      <th></th>\n",
       "      <th></th>\n",
       "    </tr>\n",
       "  </thead>\n",
       "  <tbody>\n",
       "    <tr>\n",
       "      <th>Endangered</th>\n",
       "      <td>1.0</td>\n",
       "      <td>4.0</td>\n",
       "      <td>3.0</td>\n",
       "      <td>7.0</td>\n",
       "      <td>NaN</td>\n",
       "      <td>NaN</td>\n",
       "      <td>1.0</td>\n",
       "    </tr>\n",
       "    <tr>\n",
       "      <th>In Recovery</th>\n",
       "      <td>NaN</td>\n",
       "      <td>3.0</td>\n",
       "      <td>NaN</td>\n",
       "      <td>1.0</td>\n",
       "      <td>NaN</td>\n",
       "      <td>NaN</td>\n",
       "      <td>NaN</td>\n",
       "    </tr>\n",
       "    <tr>\n",
       "      <th>Species of Concern</th>\n",
       "      <td>4.0</td>\n",
       "      <td>72.0</td>\n",
       "      <td>4.0</td>\n",
       "      <td>28.0</td>\n",
       "      <td>5.0</td>\n",
       "      <td>5.0</td>\n",
       "      <td>43.0</td>\n",
       "    </tr>\n",
       "    <tr>\n",
       "      <th>Threatened</th>\n",
       "      <td>2.0</td>\n",
       "      <td>NaN</td>\n",
       "      <td>4.0</td>\n",
       "      <td>2.0</td>\n",
       "      <td>NaN</td>\n",
       "      <td>NaN</td>\n",
       "      <td>2.0</td>\n",
       "    </tr>\n",
       "  </tbody>\n",
       "</table>\n",
       "</div>"
      ],
      "text/plain": [
       "category             Amphibian  Bird  Fish  Mammal  Nonvascular Plant  \\\n",
       "conservation_status                                                     \n",
       "Endangered                 1.0   4.0   3.0     7.0                NaN   \n",
       "In Recovery                NaN   3.0   NaN     1.0                NaN   \n",
       "Species of Concern         4.0  72.0   4.0    28.0                5.0   \n",
       "Threatened                 2.0   NaN   4.0     2.0                NaN   \n",
       "\n",
       "category             Reptile  Vascular Plant  \n",
       "conservation_status                           \n",
       "Endangered               NaN             1.0  \n",
       "In Recovery              NaN             NaN  \n",
       "Species of Concern       5.0            43.0  \n",
       "Threatened               NaN             2.0  "
      ]
     },
     "execution_count": 14,
     "metadata": {},
     "output_type": "execute_result"
    }
   ],
   "source": [
    "#group by conservation status and species\n",
    "conservation_category=endangered_species.groupby(['conservation_status', 'category'])['scientific_name'].count().unstack()\n",
    "conservation_category.head(8)\n"
   ]
  },
  {
   "cell_type": "code",
   "execution_count": 15,
   "metadata": {},
   "outputs": [
    {
     "data": {
      "text/plain": [
       "Text(0.5, 1.0, 'Conservation Status by Species Type')"
      ]
     },
     "execution_count": 15,
     "metadata": {},
     "output_type": "execute_result"
    },
    {
     "data": {
      "image/png": "[encoded data removed]",
      "text/plain": [
       "<Figure size 1000x800 with 1 Axes>"
      ]
     },
     "metadata": {},
     "output_type": "display_data"
    }
   ],
   "source": [
    "#plot stacked bar\n",
    "ax=conservation_category.plot(kind='bar', figsize=(10, 8), stacked=True )\n",
    "ax.set_xlabel('Conservation Status')\n",
    "ax.set_ylabel('Count')\n",
    "ax.set_title('Conservation Status by Species Type')\n"
   ]
  },
  {
   "cell_type": "markdown",
   "metadata": {},
   "source": [
    "### species in parks"
   ]
  },
  {
   "cell_type": "markdown",
   "metadata": {},
   "source": []
  },
  {
   "cell_type": "code",
   "execution_count": 21,
   "metadata": {},
   "outputs": [
    {
     "data": {
      "text/plain": [
       "Text(0.5, 1.0, 'Number of Animals Observed by Park')"
      ]
     },
     "execution_count": 21,
     "metadata": {},
     "output_type": "execute_result"
    },
    {
     "data": {
      "image/png": "[encoded data removed]",
      "text/plain": [
       "<Figure size 1800x1000 with 1 Axes>"
      ]
     },
     "metadata": {},
     "output_type": "display_data"
    }
   ],
   "source": [
    "plt.figure(figsize=(18, 10))\n",
    "sns.barplot(x=observations.park_name, y=observations.observations)\n",
    "plt.title(\"Number of Animals Observed by Park\")"
   ]
  },
  {
   "cell_type": "markdown",
   "metadata": {},
   "source": [
    "try to find the number of protected observations byu park"
   ]
  },
  {
   "cell_type": "code",
   "execution_count": 22,
   "metadata": {},
   "outputs": [
    {
     "data": {
      "text/html": [
       "<div>\n",
       "<style scoped>\n",
       "    .dataframe tbody tr th:only-of-type {\n",
       "        vertical-align: middle;\n",
       "    }\n",
       "\n",
       "    .dataframe tbody tr th {\n",
       "        vertical-align: top;\n",
       "    }\n",
       "\n",
       "    .dataframe thead th {\n",
       "        text-align: right;\n",
       "    }\n",
       "</style>\n",
       "<table border=\"1\" class=\"dataframe\">\n",
       "  <thead>\n",
       "    <tr style=\"text-align: right;\">\n",
       "      <th></th>\n",
       "      <th>scientific_name</th>\n",
       "      <th>park_name</th>\n",
       "      <th>observations</th>\n",
       "      <th>category</th>\n",
       "      <th>common_names</th>\n",
       "      <th>conservation_status</th>\n",
       "      <th>is_protected</th>\n",
       "    </tr>\n",
       "  </thead>\n",
       "  <tbody>\n",
       "    <tr>\n",
       "      <th>0</th>\n",
       "      <td>Vicia benghalensis</td>\n",
       "      <td>Great Smoky Mountains National Park</td>\n",
       "      <td>68</td>\n",
       "      <td>Vascular Plant</td>\n",
       "      <td>Purple Vetch, Reddish Tufted Vetch</td>\n",
       "      <td>Not Conserved</td>\n",
       "      <td>False</td>\n",
       "    </tr>\n",
       "    <tr>\n",
       "      <th>1</th>\n",
       "      <td>Vicia benghalensis</td>\n",
       "      <td>Yosemite National Park</td>\n",
       "      <td>148</td>\n",
       "      <td>Vascular Plant</td>\n",
       "      <td>Purple Vetch, Reddish Tufted Vetch</td>\n",
       "      <td>Not Conserved</td>\n",
       "      <td>False</td>\n",
       "    </tr>\n",
       "    <tr>\n",
       "      <th>2</th>\n",
       "      <td>Vicia benghalensis</td>\n",
       "      <td>Yellowstone National Park</td>\n",
       "      <td>247</td>\n",
       "      <td>Vascular Plant</td>\n",
       "      <td>Purple Vetch, Reddish Tufted Vetch</td>\n",
       "      <td>Not Conserved</td>\n",
       "      <td>False</td>\n",
       "    </tr>\n",
       "    <tr>\n",
       "      <th>3</th>\n",
       "      <td>Vicia benghalensis</td>\n",
       "      <td>Bryce National Park</td>\n",
       "      <td>104</td>\n",
       "      <td>Vascular Plant</td>\n",
       "      <td>Purple Vetch, Reddish Tufted Vetch</td>\n",
       "      <td>Not Conserved</td>\n",
       "      <td>False</td>\n",
       "    </tr>\n",
       "    <tr>\n",
       "      <th>4</th>\n",
       "      <td>Neovison vison</td>\n",
       "      <td>Great Smoky Mountains National Park</td>\n",
       "      <td>77</td>\n",
       "      <td>Mammal</td>\n",
       "      <td>American Mink</td>\n",
       "      <td>Not Conserved</td>\n",
       "      <td>False</td>\n",
       "    </tr>\n",
       "  </tbody>\n",
       "</table>\n",
       "</div>"
      ],
      "text/plain": [
       "      scientific_name                            park_name  observations  \\\n",
       "0  Vicia benghalensis  Great Smoky Mountains National Park            68   \n",
       "1  Vicia benghalensis               Yosemite National Park           148   \n",
       "2  Vicia benghalensis            Yellowstone National Park           247   \n",
       "3  Vicia benghalensis                  Bryce National Park           104   \n",
       "4      Neovison vison  Great Smoky Mountains National Park            77   \n",
       "\n",
       "         category                        common_names conservation_status  \\\n",
       "0  Vascular Plant  Purple Vetch, Reddish Tufted Vetch       Not Conserved   \n",
       "1  Vascular Plant  Purple Vetch, Reddish Tufted Vetch       Not Conserved   \n",
       "2  Vascular Plant  Purple Vetch, Reddish Tufted Vetch       Not Conserved   \n",
       "3  Vascular Plant  Purple Vetch, Reddish Tufted Vetch       Not Conserved   \n",
       "4          Mammal                       American Mink       Not Conserved   \n",
       "\n",
       "   is_protected  \n",
       "0         False  \n",
       "1         False  \n",
       "2         False  \n",
       "3         False  \n",
       "4         False  "
      ]
     },
     "execution_count": 22,
     "metadata": {},
     "output_type": "execute_result"
    }
   ],
   "source": [
    "combined=pd.merge(observations, species)\n",
    "combined['is_protected']=combined.conservation_status != 'Not Conserved'\n",
    "combined.head()\n"
   ]
  },
  {
   "cell_type": "markdown",
   "metadata": {},
   "source": [
    "Now let's look at visualizations of the Observations data set. From the Observations data, a new data set can be created that sums up the total number of animals from all observations in each park. From this we can see that Yellowstone saw the most animals. "
   ]
  },
  {
   "cell_type": "code",
   "execution_count": 23,
   "metadata": {},
   "outputs": [
    {
     "name": "stdout",
     "output_type": "stream",
     "text": [
      "                             park_name  observations\n",
      "0                  Bryce National Park        633291\n",
      "1  Great Smoky Mountains National Park        474863\n",
      "2            Yellowstone National Park       1587641\n",
      "3               Yosemite National Park        949452\n"
     ]
    }
   ],
   "source": [
    "category_counts = species.groupby(['category', 'is_protected'])\\\n",
    "                        .scientific_name.nunique()\\\n",
    "                        .reset_index()\\\n",
    "                        .pivot(columns='is_protected',\n",
    "                                      index='category',\n",
    "                                      values='scientific_name')\\\n",
    "                        .reset_index()\n",
    "obs_by_park=combined.groupby(['park_name']).observations.sum().reset_index()\n",
    "print(obs_by_park)"
   ]
  },
  {
   "cell_type": "code",
   "execution_count": 24,
   "metadata": {},
   "outputs": [
    {
     "data": {
      "text/plain": [
       "Text(0.5, 1.0, 'Observations by Park')"
      ]
     },
     "execution_count": 24,
     "metadata": {},
     "output_type": "execute_result"
    },
    {
     "data": {
      "image/png": "[encoded data removed]",
      "text/plain": [
       "<Figure size 1600x1400 with 1 Axes>"
      ]
     },
     "metadata": {},
     "output_type": "display_data"
    }
   ],
   "source": [
    "plt.figure(figsize=(16, 14))\n",
    "sns.barplot(x=obs_by_park.park_name, y= obs_by_park.observations)\n",
    "plt.title(\"Observations by Park\")"
   ]
  },
  {
   "cell_type": "code",
   "execution_count": null,
   "metadata": {},
   "outputs": [],
   "source": []
  },
  {
   "cell_type": "code",
   "execution_count": 25,
   "metadata": {},
   "outputs": [
    {
     "name": "stdout",
     "output_type": "stream",
     "text": [
      "                                  Park  not_protected  protected  \\\n",
      "0                  Bryce National Park           6188        220   \n",
      "1  Great Smoky Mountains National Park           6188        220   \n",
      "2            Yellowstone National Park           6188        220   \n",
      "3               Yosemite National Park           6188        220   \n",
      "\n",
      "   percent_protected  \n",
      "0                3.4  \n",
      "1                3.4  \n",
      "2                3.4  \n",
      "3                3.4  \n"
     ]
    }
   ],
   "source": [
    "category_counts = combined.groupby(['park_name', 'is_protected'])\\\n",
    "                        .observations.count()\\\n",
    "                        .reset_index()\\\n",
    "                        .pivot(columns='is_protected',\n",
    "                                      index='park_name',\n",
    "                                      values='observations')\\\n",
    "                        .reset_index()\n",
    "category_counts.columns = ['Park', 'not_protected', 'protected']\n",
    "category_counts['percent_protected']=round(category_counts.protected/(category_counts.not_protected+category_counts.protected)*100, 1)\n",
    "print(category_counts)"
   ]
  },
  {
   "cell_type": "code",
   "execution_count": 27,
   "metadata": {},
   "outputs": [
    {
     "name": "stdout",
     "output_type": "stream",
     "text": [
      "      scientific_name                            park_name  observations  \\\n",
      "0  Vicia benghalensis  Great Smoky Mountains National Park            68   \n",
      "1  Vicia benghalensis               Yosemite National Park           148   \n",
      "2  Vicia benghalensis            Yellowstone National Park           247   \n",
      "3  Vicia benghalensis                  Bryce National Park           104   \n",
      "4      Neovison vison  Great Smoky Mountains National Park            77   \n",
      "\n",
      "         category                        common_names conservation_status  \\\n",
      "0  Vascular Plant  Purple Vetch, Reddish Tufted Vetch       Not Conserved   \n",
      "1  Vascular Plant  Purple Vetch, Reddish Tufted Vetch       Not Conserved   \n",
      "2  Vascular Plant  Purple Vetch, Reddish Tufted Vetch       Not Conserved   \n",
      "3  Vascular Plant  Purple Vetch, Reddish Tufted Vetch       Not Conserved   \n",
      "4          Mammal                       American Mink       Not Conserved   \n",
      "\n",
      "   is_protected  \n",
      "0         False  \n",
      "1         False  \n",
      "2         False  \n",
      "3         False  \n",
      "4         False  \n"
     ]
    }
   ],
   "source": [
    "print(combined.head())"
   ]
  },
  {
   "cell_type": "code",
   "execution_count": 28,
   "metadata": {},
   "outputs": [
    {
     "data": {
      "text/html": [
       "<div>\n",
       "<style scoped>\n",
       "    .dataframe tbody tr th:only-of-type {\n",
       "        vertical-align: middle;\n",
       "    }\n",
       "\n",
       "    .dataframe tbody tr th {\n",
       "        vertical-align: top;\n",
       "    }\n",
       "\n",
       "    .dataframe thead th {\n",
       "        text-align: right;\n",
       "    }\n",
       "</style>\n",
       "<table border=\"1\" class=\"dataframe\">\n",
       "  <thead>\n",
       "    <tr style=\"text-align: right;\">\n",
       "      <th></th>\n",
       "      <th>scientific_name</th>\n",
       "      <th>park_name</th>\n",
       "      <th>observations</th>\n",
       "      <th>category</th>\n",
       "      <th>common_names</th>\n",
       "      <th>conservation_status</th>\n",
       "      <th>is_protected</th>\n",
       "      <th>name</th>\n",
       "    </tr>\n",
       "  </thead>\n",
       "  <tbody>\n",
       "    <tr>\n",
       "      <th>0</th>\n",
       "      <td>Vicia benghalensis</td>\n",
       "      <td>Great Smoky Mountains National Park</td>\n",
       "      <td>68</td>\n",
       "      <td>Vascular Plant</td>\n",
       "      <td>Purple Vetch, Reddish Tufted Vetch</td>\n",
       "      <td>Not Conserved</td>\n",
       "      <td>False</td>\n",
       "      <td>Purple</td>\n",
       "    </tr>\n",
       "    <tr>\n",
       "      <th>1</th>\n",
       "      <td>Vicia benghalensis</td>\n",
       "      <td>Yosemite National Park</td>\n",
       "      <td>148</td>\n",
       "      <td>Vascular Plant</td>\n",
       "      <td>Purple Vetch, Reddish Tufted Vetch</td>\n",
       "      <td>Not Conserved</td>\n",
       "      <td>False</td>\n",
       "      <td>Purple</td>\n",
       "    </tr>\n",
       "    <tr>\n",
       "      <th>2</th>\n",
       "      <td>Vicia benghalensis</td>\n",
       "      <td>Yellowstone National Park</td>\n",
       "      <td>247</td>\n",
       "      <td>Vascular Plant</td>\n",
       "      <td>Purple Vetch, Reddish Tufted Vetch</td>\n",
       "      <td>Not Conserved</td>\n",
       "      <td>False</td>\n",
       "      <td>Purple</td>\n",
       "    </tr>\n",
       "    <tr>\n",
       "      <th>3</th>\n",
       "      <td>Vicia benghalensis</td>\n",
       "      <td>Bryce National Park</td>\n",
       "      <td>104</td>\n",
       "      <td>Vascular Plant</td>\n",
       "      <td>Purple Vetch, Reddish Tufted Vetch</td>\n",
       "      <td>Not Conserved</td>\n",
       "      <td>False</td>\n",
       "      <td>Purple</td>\n",
       "    </tr>\n",
       "    <tr>\n",
       "      <th>4</th>\n",
       "      <td>Neovison vison</td>\n",
       "      <td>Great Smoky Mountains National Park</td>\n",
       "      <td>77</td>\n",
       "      <td>Mammal</td>\n",
       "      <td>American Mink</td>\n",
       "      <td>Not Conserved</td>\n",
       "      <td>False</td>\n",
       "      <td>American</td>\n",
       "    </tr>\n",
       "  </tbody>\n",
       "</table>\n",
       "</div>"
      ],
      "text/plain": [
       "      scientific_name                            park_name  observations  \\\n",
       "0  Vicia benghalensis  Great Smoky Mountains National Park            68   \n",
       "1  Vicia benghalensis               Yosemite National Park           148   \n",
       "2  Vicia benghalensis            Yellowstone National Park           247   \n",
       "3  Vicia benghalensis                  Bryce National Park           104   \n",
       "4      Neovison vison  Great Smoky Mountains National Park            77   \n",
       "\n",
       "         category                        common_names conservation_status  \\\n",
       "0  Vascular Plant  Purple Vetch, Reddish Tufted Vetch       Not Conserved   \n",
       "1  Vascular Plant  Purple Vetch, Reddish Tufted Vetch       Not Conserved   \n",
       "2  Vascular Plant  Purple Vetch, Reddish Tufted Vetch       Not Conserved   \n",
       "3  Vascular Plant  Purple Vetch, Reddish Tufted Vetch       Not Conserved   \n",
       "4          Mammal                       American Mink       Not Conserved   \n",
       "\n",
       "   is_protected      name  \n",
       "0         False    Purple  \n",
       "1         False    Purple  \n",
       "2         False    Purple  \n",
       "3         False    Purple  \n",
       "4         False  American  "
      ]
     },
     "execution_count": 28,
     "metadata": {},
     "output_type": "execute_result"
    }
   ],
   "source": [
    "#combined.common_names.unique()\n",
    "combined['name']=combined.apply(lambda row: row.common_names.split()[0], axis = 1)\n",
    "combined.head()"
   ]
  },
  {
   "cell_type": "markdown",
   "metadata": {},
   "source": [
    "## Exploring Correlations"
   ]
  },
  {
   "cell_type": "markdown",
   "metadata": {},
   "source": [
    "We can now answer some statistical questions we have about the data. To simplify this, we can group all of the conserved categories together to get an idea of the types of species that are protected vs not protected. This will help us get a better idea of whether one species is more likely to be protected than another. We can see that a high percent of mammals and birds are protected, while a low percent of vascular and non-vascular plants are protected. \n",
    "\n",
    "With this data we can compare different species with a chi-squared test and see whether there is a statistically significant difference in the likelihood of one species being protected vs another. We will use a significance threshold of 0.05, so if the p-value is below that we will consider it statistically significant. \n",
    "\n",
    "When we compare the two most protected species, mammals and birds, we get a p-value of 0.68. This is above 0.05, so we cannot conclude that one of those species is more likely to be protected than the other. \n",
    "\n",
    "Repeated with mammals vs all the other species, we find that mammals are statistically more likely to be protected than nonvascular plants, reptiles and vascular plants. They are not significantly more likely to be protected than amphibians, birds or fish (although the results for fish and birds would be different if we had chosen a slightly higher significance threshold)."
   ]
  },
  {
   "cell_type": "code",
   "execution_count": 17,
   "metadata": {},
   "outputs": [
    {
     "name": "stdout",
     "output_type": "stream",
     "text": [
      "            category  not_protected  protected  percent_protected\n",
      "0          Amphibian             72          7                8.9\n",
      "1               Bird            413         75               15.4\n",
      "2               Fish            115         11                8.7\n",
      "3             Mammal            146         30               17.0\n",
      "4  Nonvascular Plant            328          5                1.5\n",
      "5            Reptile             73          5                6.4\n",
      "6     Vascular Plant           4216         46                1.1\n"
     ]
    }
   ],
   "source": [
    "#print(endangered_species.groupby(['category', 'conservation_status']).count().unstack())\n",
    "\\\n",
    "#create new column \n",
    "species['is_protected']=species.conservation_status != 'Not Conserved'\n",
    "#print(species.groupby(['category', 'is_protected']).count())\n",
    "#print(species.head())\n",
    "\n",
    "\n",
    "category_counts = species.groupby(['category', 'is_protected'])\\\n",
    "                        .scientific_name.nunique()\\\n",
    "                        .reset_index()\\\n",
    "                        .pivot(columns='is_protected',\n",
    "                                      index='category',\n",
    "                                      values='scientific_name')\\\n",
    "                              .reset_index()\n",
    "category_counts.columns = ['category', 'not_protected', 'protected']\n",
    "category_counts['percent_protected']=round(category_counts.protected/(category_counts.not_protected+category_counts.protected)*100, 1)\n",
    "print(category_counts)\n",
    "\n"
   ]
  },
  {
   "cell_type": "code",
   "execution_count": 18,
   "metadata": {},
   "outputs": [
    {
     "name": "stdout",
     "output_type": "stream",
     "text": [
      "Mammals vs Birds protection status\n",
      "Chi-Squared:  0.16170148316545574\n",
      "P-Value:  0.6875948096661336\n"
     ]
    }
   ],
   "source": [
    "#exploring if certain species are more likely do be endangered using crosstab tables, \n",
    "#chi-squared statistics, and pvalues\n",
    "#first looking at mammals vs birds\n",
    "from scipy.stats import chi2_contingency\n",
    "mammal_bird_crosstab=([146, 30], [413, 75])\n",
    "chi2mb, pvalmb, dofmb, expectedmb=chi2_contingency(mammal_bird_crosstab)\n",
    "print('Mammals vs Birds protection status')\n",
    "print(\"Chi-Squared: \", chi2mb)\n",
    "print(\"P-Value: \", pvalmb)\n",
    "#pval is .68, not statistically significant"
   ]
  },
  {
   "cell_type": "code",
   "execution_count": 19,
   "metadata": {},
   "outputs": [
    {
     "name": "stdout",
     "output_type": "stream",
     "text": [
      "Chi Squared, pvalue mammals vs reptile protection\n",
      "4.289183096203645 0.03835559022969898\n"
     ]
    }
   ],
   "source": [
    "mammal_reptile_crosstab=([146, 30], [73, 5])\n",
    "chi2mr, pvalmr, dofmr, expectedmr=chi2_contingency(mammal_reptile_crosstab)\n",
    "print('Chi Squared, pvalue mammals vs reptile protection')\n",
    "print(chi2mr, pvalmr)\n",
    "#pval is.038, statistically significant"
   ]
  },
  {
   "cell_type": "code",
   "execution_count": 20,
   "metadata": {},
   "outputs": [
    {
     "name": "stdout",
     "output_type": "stream",
     "text": [
      "Mammal vs Other Species P-Values: \n",
      "Amphibian:  0.12757669693198975\n",
      "->non-significant\n",
      "Bird:  0.6875948096661336\n",
      "->non-significant\n",
      "Fish:  0.0561483484489001\n",
      "->non-significant\n",
      "Nonvascular Plant:  1.481868915759314e-10\n",
      "->significant\n",
      "Repltile:  0.03835559022969898\n",
      "->significant\n",
      "Vascular Plant:  1.4405067309854046e-55\n",
      "->significant\n"
     ]
    }
   ],
   "source": [
    "mammal_amphibian_crosstab=([146, 30], [72, 7])\n",
    "chi2ma, pvalma, dofma, expectedma=chi2_contingency(mammal_amphibian_crosstab)\n",
    "print(\"Mammal vs Other Species P-Values: \")\n",
    "print(\"Amphibian: \", pvalma, )\n",
    "print(\"->non-significant\")\n",
    "mammal_bird_crosstab=([146, 30], [413, 75])\n",
    "chi2mb, pvalmb, dofmb, expectedmb=chi2_contingency(mammal_bird_crosstab)\n",
    "print(\"Bird: \", pvalmb)\n",
    "print(\"->non-significant\")\n",
    "mammal_fish_crosstab=([146, 30], [115, 11])\n",
    "chi2mf, pvalmf, dofmf, expectedmf=chi2_contingency(mammal_fish_crosstab)\n",
    "print(\"Fish: \", pvalmf)\n",
    "print(\"->non-significant\")\n",
    "mammal_nvplant_crosstab=([146, 30], [328, 5])\n",
    "chi2mn, pvalmn, dofmn, expectedmn=chi2_contingency(mammal_nvplant_crosstab)\n",
    "print(\"Nonvascular Plant: \", pvalmn)\n",
    "print(\"->significant\")\n",
    "print(\"Repltile: \", pvalmr)\n",
    "print(\"->significant\")\n",
    "mammal_vplant_crosstab=([146, 30], [4216, 46])\n",
    "chi2mv, pvalmv, dofmv, expectedmv=chi2_contingency(mammal_vplant_crosstab)\n",
    "print(\"Vascular Plant: \", pvalmv)\n",
    "print(\"->significant\")\n"
   ]
  },
  {
   "cell_type": "markdown",
   "metadata": {},
   "source": [
    "## Conclusion"
   ]
  },
  {
   "cell_type": "markdown",
   "metadata": {},
   "source": [
    "Throughout the course of this project, many data visualizations and observations were made about the species in the four National Parks that this data contains. With statistical analysis, the project was able to answer the questions posed in the beginning: \n",
    "\n",
    "What is the distribution of conservation statuses?\n",
    "  - most species are not conserved, and each tier of higher conservation status has fewer species in it\n",
    "\n",
    "How often different species are conserved\n",
    "  - Birds and Mammals are the most conserved species by percentage, while plants are the least\n",
    "\n",
    "Is there a significant difference of conservation status between species\n",
    "  - Mammals are significantly more conserved than a few of the other species"
   ]
  },
  {
   "cell_type": "markdown",
   "metadata": {},
   "source": [
    "## Further Research"
   ]
  },
  {
   "cell_type": "markdown",
   "metadata": {},
   "source": [
    "It would be interesting to do some further analysis on the size of the parks in relation to the number of animals seen in them, as well as the type of landscape that each park contains (i.e. forest, mountain, lake ...). \n",
    "\n",
    "A variable that we did not spend a lot of time considering is the common_name column in the Species data set. With string manipulation and analyzation, we could get a better idea of what types of animals are seen most frequently in which National Parks. "
   ]
  },
  {
   "cell_type": "code",
   "execution_count": null,
   "metadata": {},
   "outputs": [],
   "source": []
  }
 ],
 "metadata": {
  "kernelspec": {
   "display_name": "Python 3 (ipykernel)",
   "language": "python",
   "name": "python3"
  },
  "language_info": {
   "codemirror_mode": {
    "name": "ipython",
    "version": 3
   },
   "file_extension": ".py",
   "mimetype": "text/x-python",
   "name": "python",
   "nbconvert_exporter": "python",
   "pygments_lexer": "ipython3",
   "version": "3.11.4"
  }
 },
 "nbformat": 4,
 "nbformat_minor": 4
}
